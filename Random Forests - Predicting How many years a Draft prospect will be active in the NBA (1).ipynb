{
 "cells": [
  {
   "cell_type": "markdown",
   "id": "ceabf966",
   "metadata": {},
   "source": [
    "**Student Name:** Adam Abid, Devin Duran \n",
    "\n",
    "**Assignment Title:** Data Anaylsis Project 2 - Random Forest & K - Clustering\n"
   ]
  },
  {
   "cell_type": "markdown",
   "id": "7bc9d3fd",
   "metadata": {},
   "source": [
    "## <mark> Random Forests </mark>\n",
    "\n",
    "\n",
    "   ### Predicting an Nba Draft prospects longevity in the league "
   ]
  },
  {
   "cell_type": "markdown",
   "id": "0320e972",
   "metadata": {},
   "source": [
    "## <mark> Getting Started: </mark>\n",
    "- The first thing we do is import all the necessary libraries\n",
    "- All of the libraries we will use to help us in making our model for    prediction comes from sklearn\n",
    "- We will also use the pandas library to help filter our data and clean it up for optimal use.\n",
    "\n",
    "\n",
    "- In this specific example we are using the regression model of random forest because we want to know an amount related to certain factors and not just a yes or no to our question. We know our draft proscpect will be active in the NBA but for how long is the question."
   ]
  },
  {
   "cell_type": "code",
   "execution_count": 1,
   "id": "5ddb18a3",
   "metadata": {},
   "outputs": [],
   "source": [
    "#Importing the Libraries\n",
    "import pandas as pd\n",
    "import numpy as np\n",
    "import matplotlib.pyplot as plt\n",
    "\n",
    "from sklearn.model_selection import RandomizedSearchCV, train_test_split\n",
    "from sklearn.ensemble import RandomForestClassifier\n",
    "from sklearn.ensemble import RandomForestRegressor\n",
    "from sklearn import datasets\n",
    "from sklearn.feature_selection import SelectFromModel\n",
    "from sklearn.metrics import mean_squared_error\n",
    "\n"
   ]
  },
  {
   "cell_type": "markdown",
   "id": "576e80ad",
   "metadata": {},
   "source": [
    "## <mark> Overview of Data: </mark>\n",
    "\n",
    "- The dataset contains all NBA Draft picks from 1989-2021. Dataset consists of year, overall pick, college, statistics from their time in the nba and much more. Categorical data relating to college and the team that drafted them. Numerical data related to performance numbers from their time in the Nba. For example the minutes played, years active, and the amount of minutes they played in total.\n",
    "\n",
    "\n",
    "\n",
    "- Here we are reading the data into the markdown and then printing the first 5 indexes to make sure that the data read was successful\n",
    "\n",
    "\n",
    "- You can find the data set we used @ https://www.kaggle.com/datasets/mattop/nba-draft-basketball-player-data-19892021/code?resource=download\n"
   ]
  },
  {
   "cell_type": "code",
   "execution_count": 2,
   "id": "9d1b8d9c",
   "metadata": {},
   "outputs": [
    {
     "data": {
      "text/html": [
       "<div>\n",
       "<style scoped>\n",
       "    .dataframe tbody tr th:only-of-type {\n",
       "        vertical-align: middle;\n",
       "    }\n",
       "\n",
       "    .dataframe tbody tr th {\n",
       "        vertical-align: top;\n",
       "    }\n",
       "\n",
       "    .dataframe thead th {\n",
       "        text-align: right;\n",
       "    }\n",
       "</style>\n",
       "<table border=\"1\" class=\"dataframe\">\n",
       "  <thead>\n",
       "    <tr style=\"text-align: right;\">\n",
       "      <th></th>\n",
       "      <th>id</th>\n",
       "      <th>year</th>\n",
       "      <th>rank</th>\n",
       "      <th>overall_pick</th>\n",
       "      <th>team</th>\n",
       "      <th>player</th>\n",
       "      <th>college</th>\n",
       "      <th>years_active</th>\n",
       "      <th>games</th>\n",
       "      <th>minutes_played</th>\n",
       "      <th>...</th>\n",
       "      <th>3_point_percentage</th>\n",
       "      <th>free_throw_percentage</th>\n",
       "      <th>average_minutes_played</th>\n",
       "      <th>points_per_game</th>\n",
       "      <th>average_total_rebounds</th>\n",
       "      <th>average_assists</th>\n",
       "      <th>win_shares</th>\n",
       "      <th>win_shares_per_48_minutes</th>\n",
       "      <th>box_plus_minus</th>\n",
       "      <th>value_over_replacement</th>\n",
       "    </tr>\n",
       "  </thead>\n",
       "  <tbody>\n",
       "    <tr>\n",
       "      <th>0</th>\n",
       "      <td>1</td>\n",
       "      <td>1989</td>\n",
       "      <td>1</td>\n",
       "      <td>1</td>\n",
       "      <td>SAC</td>\n",
       "      <td>Pervis Ellison</td>\n",
       "      <td>Louisville</td>\n",
       "      <td>11.0</td>\n",
       "      <td>474.0</td>\n",
       "      <td>11593.0</td>\n",
       "      <td>...</td>\n",
       "      <td>0.050</td>\n",
       "      <td>0.689</td>\n",
       "      <td>24.5</td>\n",
       "      <td>9.5</td>\n",
       "      <td>6.7</td>\n",
       "      <td>1.5</td>\n",
       "      <td>21.8</td>\n",
       "      <td>0.090</td>\n",
       "      <td>-0.5</td>\n",
       "      <td>4.4</td>\n",
       "    </tr>\n",
       "    <tr>\n",
       "      <th>1</th>\n",
       "      <td>2</td>\n",
       "      <td>1989</td>\n",
       "      <td>2</td>\n",
       "      <td>2</td>\n",
       "      <td>LAC</td>\n",
       "      <td>Danny Ferry</td>\n",
       "      <td>Duke</td>\n",
       "      <td>13.0</td>\n",
       "      <td>917.0</td>\n",
       "      <td>18133.0</td>\n",
       "      <td>...</td>\n",
       "      <td>0.393</td>\n",
       "      <td>0.840</td>\n",
       "      <td>19.8</td>\n",
       "      <td>7.0</td>\n",
       "      <td>2.8</td>\n",
       "      <td>1.3</td>\n",
       "      <td>34.8</td>\n",
       "      <td>0.092</td>\n",
       "      <td>-0.9</td>\n",
       "      <td>4.9</td>\n",
       "    </tr>\n",
       "    <tr>\n",
       "      <th>2</th>\n",
       "      <td>3</td>\n",
       "      <td>1989</td>\n",
       "      <td>3</td>\n",
       "      <td>3</td>\n",
       "      <td>SAS</td>\n",
       "      <td>Sean Elliott</td>\n",
       "      <td>Arizona</td>\n",
       "      <td>12.0</td>\n",
       "      <td>742.0</td>\n",
       "      <td>24502.0</td>\n",
       "      <td>...</td>\n",
       "      <td>0.375</td>\n",
       "      <td>0.799</td>\n",
       "      <td>33.0</td>\n",
       "      <td>14.2</td>\n",
       "      <td>4.3</td>\n",
       "      <td>2.6</td>\n",
       "      <td>55.7</td>\n",
       "      <td>0.109</td>\n",
       "      <td>0.2</td>\n",
       "      <td>13.5</td>\n",
       "    </tr>\n",
       "    <tr>\n",
       "      <th>3</th>\n",
       "      <td>4</td>\n",
       "      <td>1989</td>\n",
       "      <td>4</td>\n",
       "      <td>4</td>\n",
       "      <td>MIA</td>\n",
       "      <td>Glen Rice</td>\n",
       "      <td>Michigan</td>\n",
       "      <td>15.0</td>\n",
       "      <td>1000.0</td>\n",
       "      <td>34985.0</td>\n",
       "      <td>...</td>\n",
       "      <td>0.400</td>\n",
       "      <td>0.846</td>\n",
       "      <td>35.0</td>\n",
       "      <td>18.3</td>\n",
       "      <td>4.4</td>\n",
       "      <td>2.1</td>\n",
       "      <td>88.7</td>\n",
       "      <td>0.122</td>\n",
       "      <td>0.8</td>\n",
       "      <td>24.9</td>\n",
       "    </tr>\n",
       "    <tr>\n",
       "      <th>4</th>\n",
       "      <td>5</td>\n",
       "      <td>1989</td>\n",
       "      <td>5</td>\n",
       "      <td>5</td>\n",
       "      <td>CHH</td>\n",
       "      <td>J.R. Reid</td>\n",
       "      <td>UNC</td>\n",
       "      <td>11.0</td>\n",
       "      <td>672.0</td>\n",
       "      <td>15370.0</td>\n",
       "      <td>...</td>\n",
       "      <td>0.135</td>\n",
       "      <td>0.716</td>\n",
       "      <td>22.9</td>\n",
       "      <td>8.5</td>\n",
       "      <td>5.0</td>\n",
       "      <td>1.0</td>\n",
       "      <td>22.5</td>\n",
       "      <td>0.070</td>\n",
       "      <td>-2.9</td>\n",
       "      <td>-3.7</td>\n",
       "    </tr>\n",
       "  </tbody>\n",
       "</table>\n",
       "<p>5 rows × 24 columns</p>\n",
       "</div>"
      ],
      "text/plain": [
       "   id  year  rank  overall_pick team          player     college  \\\n",
       "0   1  1989     1             1  SAC  Pervis Ellison  Louisville   \n",
       "1   2  1989     2             2  LAC     Danny Ferry        Duke   \n",
       "2   3  1989     3             3  SAS    Sean Elliott     Arizona   \n",
       "3   4  1989     4             4  MIA       Glen Rice    Michigan   \n",
       "4   5  1989     5             5  CHH       J.R. Reid         UNC   \n",
       "\n",
       "   years_active   games  minutes_played  ...  3_point_percentage  \\\n",
       "0          11.0   474.0         11593.0  ...               0.050   \n",
       "1          13.0   917.0         18133.0  ...               0.393   \n",
       "2          12.0   742.0         24502.0  ...               0.375   \n",
       "3          15.0  1000.0         34985.0  ...               0.400   \n",
       "4          11.0   672.0         15370.0  ...               0.135   \n",
       "\n",
       "   free_throw_percentage  average_minutes_played  points_per_game  \\\n",
       "0                  0.689                    24.5              9.5   \n",
       "1                  0.840                    19.8              7.0   \n",
       "2                  0.799                    33.0             14.2   \n",
       "3                  0.846                    35.0             18.3   \n",
       "4                  0.716                    22.9              8.5   \n",
       "\n",
       "   average_total_rebounds  average_assists  win_shares  \\\n",
       "0                     6.7              1.5        21.8   \n",
       "1                     2.8              1.3        34.8   \n",
       "2                     4.3              2.6        55.7   \n",
       "3                     4.4              2.1        88.7   \n",
       "4                     5.0              1.0        22.5   \n",
       "\n",
       "   win_shares_per_48_minutes  box_plus_minus  value_over_replacement  \n",
       "0                      0.090            -0.5                     4.4  \n",
       "1                      0.092            -0.9                     4.9  \n",
       "2                      0.109             0.2                    13.5  \n",
       "3                      0.122             0.8                    24.9  \n",
       "4                      0.070            -2.9                    -3.7  \n",
       "\n",
       "[5 rows x 24 columns]"
      ]
     },
     "execution_count": 2,
     "metadata": {},
     "output_type": "execute_result"
    }
   ],
   "source": [
    "data = pd.read_csv(\"nbaplayersdraft.csv\")\n",
    "data.head()"
   ]
  },
  {
   "cell_type": "markdown",
   "id": "06c097f5",
   "metadata": {},
   "source": [
    "## <mark> Cleaning Data Frame: </mark>\n",
    "\n",
    "- We will start out by creating a new data frame with the columns that are necessary \n",
    "\n",
    "\n",
    "- We will also use the **groupby() and ngroup()** function to assign a unique numerical id to the different colleges and drafted teams to help fit the data into the right parameters of the train_test_split() function\n",
    "\n",
    "\n",
    "- You may notice that they are 31 ids for the teams eventhough they are currently only 30 teams in the NBA. This is because of the timeframe our data is from, and that includes the former expansion team the **Seattle Supersonics** who are no longer a part of the asscociation."
   ]
  },
  {
   "cell_type": "code",
   "execution_count": 3,
   "id": "9b70b726",
   "metadata": {
    "scrolled": true
   },
   "outputs": [
    {
     "name": "stderr",
     "output_type": "stream",
     "text": [
      "/var/folders/8p/dk6ky0qn7nd_kl4sym24mk940000gn/T/ipykernel_21282/759703936.py:6: SettingWithCopyWarning: \n",
      "A value is trying to be set on a copy of a slice from a DataFrame.\n",
      "Try using .loc[row_indexer,col_indexer] = value instead\n",
      "\n",
      "See the caveats in the documentation: https://pandas.pydata.org/pandas-docs/stable/user_guide/indexing.html#returning-a-view-versus-a-copy\n",
      "  new_df_filtered['college_id'] = new_df_filtered.groupby(['college']).ngroup()\n",
      "/var/folders/8p/dk6ky0qn7nd_kl4sym24mk940000gn/T/ipykernel_21282/759703936.py:7: SettingWithCopyWarning: \n",
      "A value is trying to be set on a copy of a slice from a DataFrame.\n",
      "Try using .loc[row_indexer,col_indexer] = value instead\n",
      "\n",
      "See the caveats in the documentation: https://pandas.pydata.org/pandas-docs/stable/user_guide/indexing.html#returning-a-view-versus-a-copy\n",
      "  new_df_filtered['team_id'] = new_df_filtered.groupby(['team']).ngroup()\n"
     ]
    }
   ],
   "source": [
    "#create the new data frame with the columns we want \n",
    "new_df = data[['id','year', 'rank','overall_pick', 'team', 'player', 'college', 'years_active','games',\n",
    "               'minutes_played']]\n",
    "\n",
    "new_df_filtered = new_df\n",
    "new_df_filtered['college_id'] = new_df_filtered.groupby(['college']).ngroup()\n",
    "new_df_filtered['team_id'] = new_df_filtered.groupby(['team']).ngroup()\n"
   ]
  },
  {
   "cell_type": "markdown",
   "id": "617f2823",
   "metadata": {},
   "source": [
    "- We will also remove **ALL** rows with \"NA\" entries form the data frame and also reindex the columns for easier reading"
   ]
  },
  {
   "cell_type": "code",
   "execution_count": 4,
   "id": "56e45d88",
   "metadata": {
    "scrolled": false
   },
   "outputs": [
    {
     "data": {
      "text/html": [
       "<div>\n",
       "<style scoped>\n",
       "    .dataframe tbody tr th:only-of-type {\n",
       "        vertical-align: middle;\n",
       "    }\n",
       "\n",
       "    .dataframe tbody tr th {\n",
       "        vertical-align: top;\n",
       "    }\n",
       "\n",
       "    .dataframe thead th {\n",
       "        text-align: right;\n",
       "    }\n",
       "</style>\n",
       "<table border=\"1\" class=\"dataframe\">\n",
       "  <thead>\n",
       "    <tr style=\"text-align: right;\">\n",
       "      <th></th>\n",
       "      <th>id</th>\n",
       "      <th>year</th>\n",
       "      <th>college_id</th>\n",
       "      <th>team_id</th>\n",
       "      <th>rank</th>\n",
       "      <th>overall_pick</th>\n",
       "      <th>team</th>\n",
       "      <th>player</th>\n",
       "      <th>college</th>\n",
       "      <th>years_active</th>\n",
       "      <th>games</th>\n",
       "      <th>minutes_played</th>\n",
       "    </tr>\n",
       "  </thead>\n",
       "  <tbody>\n",
       "    <tr>\n",
       "      <th>0</th>\n",
       "      <td>1</td>\n",
       "      <td>1989</td>\n",
       "      <td>93</td>\n",
       "      <td>30</td>\n",
       "      <td>1</td>\n",
       "      <td>1</td>\n",
       "      <td>SAC</td>\n",
       "      <td>Pervis Ellison</td>\n",
       "      <td>Louisville</td>\n",
       "      <td>11.0</td>\n",
       "      <td>474.0</td>\n",
       "      <td>11593.0</td>\n",
       "    </tr>\n",
       "    <tr>\n",
       "      <th>1</th>\n",
       "      <td>2</td>\n",
       "      <td>1989</td>\n",
       "      <td>48</td>\n",
       "      <td>14</td>\n",
       "      <td>2</td>\n",
       "      <td>2</td>\n",
       "      <td>LAC</td>\n",
       "      <td>Danny Ferry</td>\n",
       "      <td>Duke</td>\n",
       "      <td>13.0</td>\n",
       "      <td>917.0</td>\n",
       "      <td>18133.0</td>\n",
       "    </tr>\n",
       "    <tr>\n",
       "      <th>2</th>\n",
       "      <td>3</td>\n",
       "      <td>1989</td>\n",
       "      <td>2</td>\n",
       "      <td>31</td>\n",
       "      <td>3</td>\n",
       "      <td>3</td>\n",
       "      <td>SAS</td>\n",
       "      <td>Sean Elliott</td>\n",
       "      <td>Arizona</td>\n",
       "      <td>12.0</td>\n",
       "      <td>742.0</td>\n",
       "      <td>24502.0</td>\n",
       "    </tr>\n",
       "    <tr>\n",
       "      <th>3</th>\n",
       "      <td>4</td>\n",
       "      <td>1989</td>\n",
       "      <td>105</td>\n",
       "      <td>17</td>\n",
       "      <td>4</td>\n",
       "      <td>4</td>\n",
       "      <td>MIA</td>\n",
       "      <td>Glen Rice</td>\n",
       "      <td>Michigan</td>\n",
       "      <td>15.0</td>\n",
       "      <td>1000.0</td>\n",
       "      <td>34985.0</td>\n",
       "    </tr>\n",
       "    <tr>\n",
       "      <th>4</th>\n",
       "      <td>5</td>\n",
       "      <td>1989</td>\n",
       "      <td>195</td>\n",
       "      <td>4</td>\n",
       "      <td>5</td>\n",
       "      <td>5</td>\n",
       "      <td>CHH</td>\n",
       "      <td>J.R. Reid</td>\n",
       "      <td>UNC</td>\n",
       "      <td>11.0</td>\n",
       "      <td>672.0</td>\n",
       "      <td>15370.0</td>\n",
       "    </tr>\n",
       "  </tbody>\n",
       "</table>\n",
       "</div>"
      ],
      "text/plain": [
       "   id  year  college_id  team_id  rank  overall_pick team          player  \\\n",
       "0   1  1989          93       30     1             1  SAC  Pervis Ellison   \n",
       "1   2  1989          48       14     2             2  LAC     Danny Ferry   \n",
       "2   3  1989           2       31     3             3  SAS    Sean Elliott   \n",
       "3   4  1989         105       17     4             4  MIA       Glen Rice   \n",
       "4   5  1989         195        4     5             5  CHH       J.R. Reid   \n",
       "\n",
       "      college  years_active   games  minutes_played  \n",
       "0  Louisville          11.0   474.0         11593.0  \n",
       "1        Duke          13.0   917.0         18133.0  \n",
       "2     Arizona          12.0   742.0         24502.0  \n",
       "3    Michigan          15.0  1000.0         34985.0  \n",
       "4         UNC          11.0   672.0         15370.0  "
      ]
     },
     "execution_count": 4,
     "metadata": {},
     "output_type": "execute_result"
    }
   ],
   "source": [
    "#command for removing na entries\n",
    "new_df_filtered = new_df_filtered.dropna()\n",
    "\n",
    "#command to reindex the column in the dataframe\n",
    "new_df_filtered= new_df_filtered.reindex(columns=['id','year', 'college_id', 'team_id','rank','overall_pick', 'team', 'player', 'college', 'years_active','games',\n",
    "               'minutes_played'])\n",
    "new_df_filtered.head()\n",
    "\n"
   ]
  },
  {
   "cell_type": "markdown",
   "id": "e524475b",
   "metadata": {},
   "source": [
    "## <mark>Creating and Training our Model: </mark>\n",
    "\n",
    "- After cleaning our data and making our data frame suitable for the random forest functions, we can now begin training and testing our model.\n",
    "\n",
    "\n",
    "- Firstly we will create and seperate our independent and dependent variables. \n",
    "\n",
    "\n",
    "\n",
    "- In this context our independent variables is the thing we our trying to predict and the dependent variables are the variables we will use to create our prediction. \n",
    "\n",
    "\n",
    "\n",
    "\n",
    "- For this specific model we have chosen to predict how many years a draft prospect will be active in the NBA (our independent variable) with our dependent variables being **rank, overall draft pick, the team they were drafted and the college they were from.**\n",
    "\n",
    "\n",
    "\n",
    "- For context the **average** amount of years an NBA player is active is **6.3 years** as seen below"
   ]
  },
  {
   "cell_type": "code",
   "execution_count": 5,
   "id": "8b3b3fa0",
   "metadata": {},
   "outputs": [
    {
     "data": {
      "text/plain": [
       "6.308988764044944"
      ]
     },
     "execution_count": 5,
     "metadata": {},
     "output_type": "execute_result"
    }
   ],
   "source": [
    "years_active_mean = new_df_filtered['years_active'].mean()\n",
    "years_active_mean"
   ]
  },
  {
   "cell_type": "code",
   "execution_count": 6,
   "id": "a817422e",
   "metadata": {},
   "outputs": [],
   "source": [
    "#now we have to create the independent variables(y) and dependent variables (x)\n",
    "mean = new_df_filtered['years_active'].mean()\n",
    "\n",
    "x = new_df_filtered[['rank','college_id','team_id','overall_pick']]\n",
    "y = new_df_filtered[['years_active']]\n",
    "\n"
   ]
  },
  {
   "cell_type": "markdown",
   "id": "76c2ec00",
   "metadata": {},
   "source": [
    "- Now we are going to train our data using the **train_test_split** function\n",
    "\n",
    "\n",
    "- For our model we will be using **30%** of the dataset to train the model and the remaining **70%** to test the model.\n",
    "\n",
    "\n",
    "- For our intial test we will be using **10 estimators** and see what our accuracy looks like if we should increase or decrease"
   ]
  },
  {
   "cell_type": "code",
   "execution_count": 7,
   "id": "981c1920",
   "metadata": {},
   "outputs": [],
   "source": [
    "#here is where we are going to train our model and we will use 30% of our data to train with 70% to test it on\n",
    "\n",
    "x_train, x_test, y_train, y_test = train_test_split(x,y,test_size =0.3, random_state=0)\n",
    "h = RandomForestRegressor(n_estimators =10 , random_state = 1)"
   ]
  },
  {
   "cell_type": "markdown",
   "id": "8dc6c2ed",
   "metadata": {},
   "source": [
    "## <mark>Running our Model: </mark>\n",
    "\n",
    "- We can now run the model with the **fit()** and testing it with the **predict()** funciton\n",
    "\n",
    "\n",
    "- We can judge our model results with the **mean squared error** which tells us the average summation of the squared difference from the actual value and the predicted value.\n",
    "\n",
    "\n",
    "- There is no correct **mse** value as it is a relative number to the data set however the lower the number the better and a mse of zero indicates a perfect model.\n",
    "\n",
    "\n",
    "- In our **FIRST** test of the model we got an mse score of **21.8** which isnt bad but not great either"
   ]
  },
  {
   "cell_type": "code",
   "execution_count": 8,
   "id": "4218ca95",
   "metadata": {},
   "outputs": [
    {
     "name": "stderr",
     "output_type": "stream",
     "text": [
      "/var/folders/8p/dk6ky0qn7nd_kl4sym24mk940000gn/T/ipykernel_21282/2430220004.py:1: DataConversionWarning: A column-vector y was passed when a 1d array was expected. Please change the shape of y to (n_samples,), for example using ravel().\n",
      "  h.fit(x_train,y_train)\n"
     ]
    },
    {
     "data": {
      "text/plain": [
       "21.798152394859812"
      ]
     },
     "execution_count": 8,
     "metadata": {},
     "output_type": "execute_result"
    }
   ],
   "source": [
    "h.fit(x_train,y_train)\n",
    "y_pred = h.predict(x_test)\n",
    "mean_squared_error(y_test,y_pred)"
   ]
  },
  {
   "cell_type": "markdown",
   "id": "e5270e9c",
   "metadata": {},
   "source": [
    "- Below we will test our model by giving it the attributes of a new nba draft prospect \n",
    "\n",
    "- Giving him a rank of 1, a college id of 48, team id of 4 and an overall pick in the draft of 1. With this entered we see a predicted acitve stint in the NBA of 4.3 years which is below the average.\n",
    "\n",
    "- Knowing that this player was drafted first overall and only last an approximate of 4 seasons in the NBA it makes you question the model.\n"
   ]
  },
  {
   "cell_type": "code",
   "execution_count": 9,
   "id": "09e8d2f0",
   "metadata": {
    "scrolled": false
   },
   "outputs": [
    {
     "name": "stderr",
     "output_type": "stream",
     "text": [
      "/Users/adamabid/opt/anaconda3/lib/python3.9/site-packages/sklearn/base.py:450: UserWarning: X does not have valid feature names, but RandomForestRegressor was fitted with feature names\n",
      "  warnings.warn(\n"
     ]
    },
    {
     "data": {
      "text/plain": [
       "array([4.3])"
      ]
     },
     "execution_count": 9,
     "metadata": {},
     "output_type": "execute_result"
    }
   ],
   "source": [
    "observation = [[1,48,4,1]]\n",
    "h.predict(observation)"
   ]
  },
  {
   "cell_type": "markdown",
   "id": "5bdb106d",
   "metadata": {},
   "source": [
    "- What if we ran another test with a rank of 1, overall pick of 1, a college id of 195 representing UNC Tar Heels, and a team Id of 17 representing the Miami Heat.\n"
   ]
  },
  {
   "cell_type": "code",
   "execution_count": 10,
   "id": "69726887",
   "metadata": {},
   "outputs": [
    {
     "name": "stderr",
     "output_type": "stream",
     "text": [
      "/Users/adamabid/opt/anaconda3/lib/python3.9/site-packages/sklearn/base.py:450: UserWarning: X does not have valid feature names, but RandomForestRegressor was fitted with feature names\n",
      "  warnings.warn(\n"
     ]
    },
    {
     "data": {
      "text/plain": [
       "array([13.3])"
      ]
     },
     "execution_count": 10,
     "metadata": {},
     "output_type": "execute_result"
    }
   ],
   "source": [
    "observation = [[1,195,17,1]]\n",
    "h.predict(observation)"
   ]
  },
  {
   "cell_type": "markdown",
   "id": "0fbff35b",
   "metadata": {},
   "source": [
    "- **WHAT A DIFFERENCE** Our draft prospect went to a much better team and came from a relativley similar basketball school in terms of pedigree and had a predicted active rate of 13.3 seasons in the NBA"
   ]
  },
  {
   "cell_type": "markdown",
   "id": "65377f96",
   "metadata": {},
   "source": [
    "- We can also see the most important factors that has a definitive effect on how long a draft prospect will play in the league. \n",
    "\n",
    "\n",
    "\n",
    "- We can see that all of the factors are similarliy even except for the **overall pick** which to frequent NBA fans could come as a surprise."
   ]
  },
  {
   "cell_type": "code",
   "execution_count": 11,
   "id": "59bca1cb",
   "metadata": {},
   "outputs": [
    {
     "data": {
      "image/png": "[encoded data removed]",
      "text/plain": [
       "<Figure size 432x288 with 1 Axes>"
      ]
     },
     "metadata": {
      "needs_background": "light"
     },
     "output_type": "display_data"
    }
   ],
   "source": [
    "model_ranks=pd.Series(h.feature_importances_,index=x_train.columns,name=\"Importance\").sort_values(ascending=True,inplace=False) \n",
    "ax=model_ranks.plot(kind='barh')"
   ]
  },
  {
   "cell_type": "markdown",
   "id": "a35319d5",
   "metadata": {},
   "source": [
    "## <mark>Improving  our Model: </mark>\n",
    "\n",
    "- Now that we have a benchmark standard we can now work on impoving the accuracy of our model.\n",
    "\n",
    "\n",
    "- The first thing we want to do is bring down the mse score. A way we can do this is increase the amount of estimators we have. With such a big time frame and multiple factors it would make sense to increase the amount of samples for the model to look at.\n",
    "\n",
    "\n",
    "- We will change the number of estimators until we see a **diminish of returns**\n",
    "\n"
   ]
  },
  {
   "cell_type": "code",
   "execution_count": 12,
   "id": "deb847e1",
   "metadata": {},
   "outputs": [],
   "source": [
    "x_train, x_test, y_train, y_test = train_test_split(x,y,test_size =0.3, random_state=0)\n",
    "h = RandomForestRegressor(n_estimators =30 , random_state = 1)"
   ]
  },
  {
   "cell_type": "markdown",
   "id": "59ecf8ff",
   "metadata": {},
   "source": [
    "- We can see below if we increase the **estimators** from 10 to 30 it lowers our mse score from 21.8 to 20 which is great, but what if we went higher."
   ]
  },
  {
   "cell_type": "code",
   "execution_count": 13,
   "id": "987588d6",
   "metadata": {},
   "outputs": [
    {
     "name": "stderr",
     "output_type": "stream",
     "text": [
      "/var/folders/8p/dk6ky0qn7nd_kl4sym24mk940000gn/T/ipykernel_21282/2430220004.py:1: DataConversionWarning: A column-vector y was passed when a 1d array was expected. Please change the shape of y to (n_samples,), for example using ravel().\n",
      "  h.fit(x_train,y_train)\n"
     ]
    },
    {
     "data": {
      "text/plain": [
       "20.046043592794504"
      ]
     },
     "execution_count": 13,
     "metadata": {},
     "output_type": "execute_result"
    }
   ],
   "source": [
    "h.fit(x_train,y_train)\n",
    "y_pred = h.predict(x_test)\n",
    "mean_squared_error(y_test,y_pred)"
   ]
  },
  {
   "cell_type": "code",
   "execution_count": 14,
   "id": "77f40370",
   "metadata": {},
   "outputs": [],
   "source": [
    "x_train, x_test, y_train, y_test = train_test_split(x,y,test_size =0.3, random_state=0)\n",
    "h = RandomForestRegressor(n_estimators =100 , random_state = 1)"
   ]
  },
  {
   "cell_type": "markdown",
   "id": "c4a1f68f",
   "metadata": {},
   "source": [
    "- We can now see the dimeenishing return take effect as we increased the amount of estimators by three times and only decreased our mse score by .1 to 19.9 "
   ]
  },
  {
   "cell_type": "code",
   "execution_count": 15,
   "id": "7d8d3e26",
   "metadata": {},
   "outputs": [
    {
     "name": "stderr",
     "output_type": "stream",
     "text": [
      "/var/folders/8p/dk6ky0qn7nd_kl4sym24mk940000gn/T/ipykernel_21282/2430220004.py:1: DataConversionWarning: A column-vector y was passed when a 1d array was expected. Please change the shape of y to (n_samples,), for example using ravel().\n",
      "  h.fit(x_train,y_train)\n"
     ]
    },
    {
     "data": {
      "text/plain": [
       "19.900302266030632"
      ]
     },
     "execution_count": 15,
     "metadata": {},
     "output_type": "execute_result"
    }
   ],
   "source": [
    "h.fit(x_train,y_train)\n",
    "y_pred = h.predict(x_test)\n",
    "mean_squared_error(y_test,y_pred)"
   ]
  },
  {
   "cell_type": "markdown",
   "id": "47b3c7c9",
   "metadata": {},
   "source": [
    "### <mark>Retesting our model: </mark>\n",
    "\n",
    "- Lets retest our model with the increased estimators\n"
   ]
  },
  {
   "cell_type": "code",
   "execution_count": 16,
   "id": "4fa4c9e5",
   "metadata": {},
   "outputs": [
    {
     "name": "stderr",
     "output_type": "stream",
     "text": [
      "/Users/adamabid/opt/anaconda3/lib/python3.9/site-packages/sklearn/base.py:450: UserWarning: X does not have valid feature names, but RandomForestRegressor was fitted with feature names\n",
      "  warnings.warn(\n"
     ]
    },
    {
     "data": {
      "text/plain": [
       "array([5.01])"
      ]
     },
     "execution_count": 16,
     "metadata": {},
     "output_type": "execute_result"
    }
   ],
   "source": [
    "observation = [[1,48,4,1]]\n",
    "h.predict(observation)"
   ]
  },
  {
   "cell_type": "markdown",
   "id": "04117a98",
   "metadata": {},
   "source": [
    "- We can now see with the same Nba prospect we predicited with before his longevity in the NBA has **increased a full season** with the new model.\n",
    "\n",
    "- What about our second prospect from UNC**??**\n",
    "\n",
    "\n"
   ]
  },
  {
   "cell_type": "code",
   "execution_count": 17,
   "id": "f318285a",
   "metadata": {},
   "outputs": [
    {
     "name": "stderr",
     "output_type": "stream",
     "text": [
      "/Users/adamabid/opt/anaconda3/lib/python3.9/site-packages/sklearn/base.py:450: UserWarning: X does not have valid feature names, but RandomForestRegressor was fitted with feature names\n",
      "  warnings.warn(\n"
     ]
    },
    {
     "data": {
      "text/plain": [
       "array([11.19])"
      ]
     },
     "execution_count": 17,
     "metadata": {},
     "output_type": "execute_result"
    }
   ],
   "source": [
    "observation = [[1,195,17,1]]\n",
    "h.predict(observation)"
   ]
  },
  {
   "cell_type": "markdown",
   "id": "6a982f15",
   "metadata": {},
   "source": [
    "- Wow where as the new model **increased the predicted active rate** of our first prospect, it has **decreased our second prospect** predicted active rate by a full 2 seasons\n",
    "\n",
    "\n",
    "\n",
    "- Lets look at our important factors and see if they have changed any from before"
   ]
  },
  {
   "cell_type": "code",
   "execution_count": 18,
   "id": "361ee0af",
   "metadata": {
    "scrolled": true
   },
   "outputs": [
    {
     "data": {
      "image/png": "[encoded data removed]",
      "text/plain": [
       "<Figure size 432x288 with 1 Axes>"
      ]
     },
     "metadata": {
      "needs_background": "light"
     },
     "output_type": "display_data"
    }
   ],
   "source": [
    "model_ranks=pd.Series(h.feature_importances_,index=x_train.columns,name=\"Importance\").sort_values(ascending=True,inplace=False) \n",
    "ax=model_ranks.plot(kind='barh')"
   ]
  },
  {
   "cell_type": "markdown",
   "id": "010d6de4",
   "metadata": {},
   "source": [
    "- We can see that the college factor stayed relativly the same but the new model is more affected by the team that a player gets drafted by more than their rank and overall pick selection which is highly surprising to me as someone who is an avid fan who thinks the overall pick of a player has the biggest factor. \n",
    "\n",
    "\n",
    "\n",
    "- What if we can improve our model by removing the bottom two factor\n",
    "\n",
    "### <mark>Model V3: </mark>\n",
    "\n",
    "\n",
    "\n",
    "- One last thing we want to do is create a model based on the two most important factors - college and team ids. \n"
   ]
  },
  {
   "cell_type": "code",
   "execution_count": 19,
   "id": "4be0f1df",
   "metadata": {},
   "outputs": [],
   "source": [
    "x = new_df_filtered[['college_id','team_id']]\n",
    "y = new_df_filtered[['years_active']]\n",
    "\n",
    "x_train, x_test, y_train, y_test = train_test_split(x,y,test_size =0.3, random_state=0)\n",
    "h = RandomForestRegressor(n_estimators =100 , random_state = 1)"
   ]
  },
  {
   "cell_type": "code",
   "execution_count": 20,
   "id": "9f5b013f",
   "metadata": {
    "scrolled": true
   },
   "outputs": [
    {
     "name": "stderr",
     "output_type": "stream",
     "text": [
      "/var/folders/8p/dk6ky0qn7nd_kl4sym24mk940000gn/T/ipykernel_21282/2430220004.py:1: DataConversionWarning: A column-vector y was passed when a 1d array was expected. Please change the shape of y to (n_samples,), for example using ravel().\n",
      "  h.fit(x_train,y_train)\n"
     ]
    },
    {
     "data": {
      "text/plain": [
       "27.950155201785986"
      ]
     },
     "execution_count": 20,
     "metadata": {},
     "output_type": "execute_result"
    }
   ],
   "source": [
    "h.fit(x_train,y_train)\n",
    "y_pred = h.predict(x_test)\n",
    "mean_squared_error(y_test,y_pred)"
   ]
  },
  {
   "cell_type": "markdown",
   "id": "a9094925",
   "metadata": {},
   "source": [
    "- This is interesting because we now have the highest mse score out of all the models eventhough we have only the two most important factors"
   ]
  },
  {
   "cell_type": "code",
   "execution_count": 21,
   "id": "4b5d1d9e",
   "metadata": {
    "scrolled": false
   },
   "outputs": [
    {
     "data": {
      "image/png": "[encoded data removed]",
      "text/plain": [
       "<Figure size 432x288 with 1 Axes>"
      ]
     },
     "metadata": {
      "needs_background": "light"
     },
     "output_type": "display_data"
    }
   ],
   "source": [
    "model_ranks=pd.Series(h.feature_importances_,index=x_train.columns,name=\"Importance\").sort_values(ascending=True,inplace=False) \n",
    "ax=model_ranks.plot(kind='barh')"
   ]
  },
  {
   "cell_type": "code",
   "execution_count": 22,
   "id": "3d6f9205",
   "metadata": {},
   "outputs": [
    {
     "name": "stderr",
     "output_type": "stream",
     "text": [
      "/Users/adamabid/opt/anaconda3/lib/python3.9/site-packages/sklearn/base.py:450: UserWarning: X does not have valid feature names, but RandomForestRegressor was fitted with feature names\n",
      "  warnings.warn(\n"
     ]
    },
    {
     "data": {
      "text/plain": [
       "array([6.63])"
      ]
     },
     "execution_count": 22,
     "metadata": {},
     "output_type": "execute_result"
    }
   ],
   "source": [
    "observation = [[4,48]]\n",
    "h.predict(observation)"
   ]
  },
  {
   "cell_type": "markdown",
   "id": "918ab66a",
   "metadata": {},
   "source": [
    "- V3 of the model gives the first prospect an increased season of activity in the NBA \n",
    "- which is much closer to the league average of 6.3 seasons.\n",
    "\n",
    "\n",
    "- What about our second prospect??"
   ]
  },
  {
   "cell_type": "code",
   "execution_count": 23,
   "id": "290bb827",
   "metadata": {
    "scrolled": true
   },
   "outputs": [
    {
     "name": "stderr",
     "output_type": "stream",
     "text": [
      "/Users/adamabid/opt/anaconda3/lib/python3.9/site-packages/sklearn/base.py:450: UserWarning: X does not have valid feature names, but RandomForestRegressor was fitted with feature names\n",
      "  warnings.warn(\n"
     ]
    },
    {
     "data": {
      "text/plain": [
       "array([6.87])"
      ]
     },
     "execution_count": 23,
     "metadata": {},
     "output_type": "execute_result"
    }
   ],
   "source": [
    "observation = [[17,195]]\n",
    "h.predict(observation)"
   ]
  },
  {
   "cell_type": "markdown",
   "id": "ef8abbab",
   "metadata": {},
   "source": [
    "- We see that model 3 has a similar result to the first prospect relating its prediction closer to the mean of the dataset.\n"
   ]
  },
  {
   "cell_type": "markdown",
   "id": "00f94728",
   "metadata": {},
   "source": [
    "## <mark>Conclusion: </mark>\n",
    "\n",
    "\n",
    "- So far we have seen that with our data set the league average of a players activity in the NBA is an approximate 6.3 season. We created 3 modified versions of our regression model to predict the active seasons that an NBA draftee will play in his career. With the first model having an MSE score of 21.8 we acheived two results with one being much lower than the league average and one being more than double with an approximate 13.3 seasons. We concluded that although the model deemed the college id and rank as the most important factors, it was most affected by **the team the player was drafted by**. This makes sense since Miami Heat is much better team than the Charlotte Hornents. In our second model we increased the number of estimators from 10 to 100 as this was the point at which we saw **diminishing returns in the mse score**. Model 2 had an MSE score of 19.9 deeming it much more accurate than model 1. During testing of the model we saw that the two prospects had opposite results in terms of the length of their carreer. With prospect one gaining an entire season, and prospect 2 losing 2 seasons. **Model 2 has been the most realistic** to todays standard as it is true players who stay on bad teams tend to leave earlier than those on more dominant teams. Model 3 we let the predictions go off on the two most important factors from model 2. Team id and College id. With this we acheived an **MSE score of 27** being the least accurate out of all the models. It also gave our two prospects similar timespans in the NBA with both being around the league average of 6.3. We have deemed this the most inaccurate model of the three due to its **high MSE** score and lack of factors taken into to account for its prediction.\n",
    "\n",
    "\n",
    "### <mark> Limitations and Future Improvements </mark>\n",
    "\n",
    "- By applying Random Forests to this dataset we have come accross many limitations arising from the data set. While I do think the random forest regression model might not be the best algorithm for this prediction as it is much better suited at predicted names and certain yes no characteristics rather than values. The dataset used creates alot of problems. One is that it **limits the amount of factors** the model can use to make its predictions. In the future it would have been better to have the stats from their time in college and not their time in the NBA. This way we can take into account certain stats such as \"minutes played\", \"3- point percentage\" and \"defensive rating\" to make a better assessment on how dominant this prospect would be in the league. This is much better than making the prediction solely based on the college he went to or the team he was drafted by as the status and pedigree of those teams are constantly changing year to year."
   ]
  },
  {
   "cell_type": "code",
   "execution_count": null,
   "id": "5ac8701b",
   "metadata": {},
   "outputs": [],
   "source": []
  }
 ],
 "metadata": {
  "kernelspec": {
   "display_name": "Python 3 (ipykernel)",
   "language": "python",
   "name": "python3"
  },
  "language_info": {
   "codemirror_mode": {
    "name": "ipython",
    "version": 3
   },
   "file_extension": ".py",
   "mimetype": "text/x-python",
   "name": "python",
   "nbconvert_exporter": "python",
   "pygments_lexer": "ipython3",
   "version": "3.9.12"
  }
 },
 "nbformat": 4,
 "nbformat_minor": 5
}
